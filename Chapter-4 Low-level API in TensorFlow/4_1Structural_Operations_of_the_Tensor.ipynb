{
  "nbformat": 4,
  "nbformat_minor": 0,
  "metadata": {
    "colab": {
      "provenance": []
    },
    "kernelspec": {
      "name": "python3",
      "display_name": "Python 3"
    },
    "language_info": {
      "name": "python"
    }
  },
  "cells": [
    {
      "cell_type": "markdown",
      "source": [
        "# 4-1 Structural Operations of the Tensor\n",
        "\n",
        "---\n",
        "\n",
        "Tensor operations can be broadly classified into structural operations and mathematical operations.\n",
        "\n",
        "## Structural Operations\n",
        "\n",
        "Structural operations involve manipulating the structure and shape of tensors. These include:\n",
        "\n",
        "- **Tensor Creation**: Methods and functions to create tensors of various shapes and types.\n",
        "- **Index Slicing**: Techniques to access and modify specific elements, rows, columns, or sub-tensors.\n",
        "- **Dimension Transformation**: Operations to reshape, flatten, expand, or reduce the dimensions of tensors.\n",
        "- **Combining & Splitting**: Methods to concatenate multiple tensors or split a tensor into smaller parts.\n",
        "\n",
        "## Mathematical Operations\n",
        "\n",
        "While this section focuses on structural operations, it's important to recognize that mathematical operations are another crucial aspect of tensor manipulation. These include:\n",
        "\n",
        "- **Scalar Operations**: Performing arithmetic operations between tensors and scalars.\n",
        "- **Vector Operations**: Applying mathematical functions on tensors treated as vectors.\n",
        "- **Matrix Operations**: Conducting operations such as matrix multiplication, transposition, and inversion.\n",
        "\n",
        "Additionally, the broadcasting mechanism, which allows operations on tensors of different shapes, is a vital concept in mathematical tensor operations.\n",
        "\n",
        "In this section, we will delve into the various structural operations of tensors."
      ],
      "metadata": {
        "id": "5dFkEhd4cOPA"
      }
    },
    {
      "cell_type": "markdown",
      "source": [
        "### 1. Creating Tensor\n",
        "\n",
        "Tensor creation is similar to array creation in numpy.\n",
        "\n"
      ],
      "metadata": {
        "id": "VwWdaRjAcj8e"
      }
    },
    {
      "cell_type": "code",
      "execution_count": 1,
      "metadata": {
        "id": "lgtjtTbSadTW"
      },
      "outputs": [],
      "source": [
        "import tensorflow as tf\n",
        "import numpy as np"
      ]
    },
    {
      "cell_type": "code",
      "source": [
        "a = tf.constant([1,2,3],dtype = tf.float32)\n",
        "tf.print(a)"
      ],
      "metadata": {
        "colab": {
          "base_uri": "https://localhost:8080/"
        },
        "id": "3x9qRWnecn4z",
        "outputId": "a6a08a8e-dd69-4a58-e96a-9652570831bd"
      },
      "execution_count": 2,
      "outputs": [
        {
          "output_type": "stream",
          "name": "stdout",
          "text": [
            "[1 2 3]\n"
          ]
        }
      ]
    },
    {
      "cell_type": "code",
      "source": [
        "b = tf.range(1,10,delta = 2)\n",
        "tf.print(b)"
      ],
      "metadata": {
        "colab": {
          "base_uri": "https://localhost:8080/"
        },
        "id": "EZwJorXZcvNL",
        "outputId": "cf757e87-c057-4e46-a7c1-5198969a3212"
      },
      "execution_count": 3,
      "outputs": [
        {
          "output_type": "stream",
          "name": "stdout",
          "text": [
            "[1 3 5 7 9]\n"
          ]
        }
      ]
    },
    {
      "cell_type": "code",
      "source": [
        "c = tf.linspace(0.0,2*3.14,100)\n",
        "tf.print(c)"
      ],
      "metadata": {
        "colab": {
          "base_uri": "https://localhost:8080/"
        },
        "id": "PSc3BXcPcxX5",
        "outputId": "8580cc0f-e34c-455f-abfd-438df25e4e30"
      },
      "execution_count": 4,
      "outputs": [
        {
          "output_type": "stream",
          "name": "stdout",
          "text": [
            "[0 0.0634343475 0.126868695 ... 6.15313148 6.21656609 6.28]\n"
          ]
        }
      ]
    },
    {
      "cell_type": "code",
      "source": [
        "d = tf.zeros([3,3])\n",
        "tf.print(d)"
      ],
      "metadata": {
        "colab": {
          "base_uri": "https://localhost:8080/"
        },
        "id": "Qjs-HqfKczt7",
        "outputId": "0eaf6a09-1902-4ca3-baf5-37f3dc2bf52a"
      },
      "execution_count": 5,
      "outputs": [
        {
          "output_type": "stream",
          "name": "stdout",
          "text": [
            "[[0 0 0]\n",
            " [0 0 0]\n",
            " [0 0 0]]\n"
          ]
        }
      ]
    },
    {
      "cell_type": "code",
      "source": [
        "a = tf.ones([3,3])\n",
        "b = tf.zeros_like(a,dtype= tf.float32)\n",
        "tf.print(a)\n",
        "tf.print(b)"
      ],
      "metadata": {
        "colab": {
          "base_uri": "https://localhost:8080/"
        },
        "id": "BCS-07KDc03R",
        "outputId": "02152057-8c23-4e42-eb42-40f2affe0726"
      },
      "execution_count": 6,
      "outputs": [
        {
          "output_type": "stream",
          "name": "stdout",
          "text": [
            "[[1 1 1]\n",
            " [1 1 1]\n",
            " [1 1 1]]\n",
            "[[0 0 0]\n",
            " [0 0 0]\n",
            " [0 0 0]]\n"
          ]
        }
      ]
    },
    {
      "cell_type": "code",
      "source": [
        "b = tf.fill([3,2],5)\n",
        "tf.print(b)"
      ],
      "metadata": {
        "colab": {
          "base_uri": "https://localhost:8080/"
        },
        "id": "Vtc1yQ9uc2OB",
        "outputId": "691154f7-f759-421e-c742-c4cf5f3f1502"
      },
      "execution_count": 7,
      "outputs": [
        {
          "output_type": "stream",
          "name": "stdout",
          "text": [
            "[[5 5]\n",
            " [5 5]\n",
            " [5 5]]\n"
          ]
        }
      ]
    },
    {
      "cell_type": "code",
      "source": [
        "# Random numbers with uniform distribution\n",
        "tf.random.set_seed(1.0)\n",
        "a = tf.random.uniform([5],minval=0,maxval=10)\n",
        "tf.print(a)"
      ],
      "metadata": {
        "colab": {
          "base_uri": "https://localhost:8080/"
        },
        "id": "V5P2KpwXc3o4",
        "outputId": "60dad98e-96ba-4c9c-99e0-d7be1da6a74d"
      },
      "execution_count": 8,
      "outputs": [
        {
          "output_type": "stream",
          "name": "stdout",
          "text": [
            "[1.65130854 9.01481247 6.30974197 4.34546089 2.9193902]\n"
          ]
        }
      ]
    },
    {
      "cell_type": "code",
      "source": [
        "# Random numbers with normal distribution\n",
        "b = tf.random.normal([3,3],mean=0.0,stddev=1.0)\n",
        "tf.print(b)"
      ],
      "metadata": {
        "colab": {
          "base_uri": "https://localhost:8080/"
        },
        "id": "DBWcrYd4c4qY",
        "outputId": "873b7d74-af43-45b6-a4a2-148d63f2b791"
      },
      "execution_count": 9,
      "outputs": [
        {
          "output_type": "stream",
          "name": "stdout",
          "text": [
            "[[0.403087884 -1.0880208 -0.0630953535]\n",
            " [1.33655667 0.711760104 -0.489286453]\n",
            " [-0.764221311 -1.03724861 -1.25193381]]\n"
          ]
        }
      ]
    },
    {
      "cell_type": "code",
      "source": [
        "# Random numbers with normal distribution and truncate within the range 2X standard deviation\n",
        "c = tf.random.truncated_normal((5,5), mean=0.0, stddev=1.0, dtype=tf.float32)\n",
        "tf.print(c)"
      ],
      "metadata": {
        "colab": {
          "base_uri": "https://localhost:8080/"
        },
        "id": "sMCcgCejc6Mp",
        "outputId": "dfaa7195-ad8b-4b5d-8468-2217ae3f84f6"
      },
      "execution_count": 10,
      "outputs": [
        {
          "output_type": "stream",
          "name": "stdout",
          "text": [
            "[[-0.457012236 -0.406867266 0.728577733 -0.892977774 -0.369404584]\n",
            " [0.323488563 1.19383323 0.888299048 1.25985599 -1.95951891]\n",
            " [-0.202244401 0.294496894 -0.468728036 1.29494202 1.48142183]\n",
            " [0.0810953453 1.63843894 0.556645 0.977199793 -1.17777884]\n",
            " [1.67368948 0.0647980496 -0.705142677 -0.281972528 0.126546144]]\n"
          ]
        }
      ]
    },
    {
      "cell_type": "code",
      "source": [
        "# Special matrix\n",
        "I = tf.eye(3,3) # Identity matrix\n",
        "tf.print(I)\n",
        "tf.print(\" \")\n",
        "t = tf.linalg.diag([1,2,3]) # Diagonal matrix\n",
        "tf.print(t)"
      ],
      "metadata": {
        "colab": {
          "base_uri": "https://localhost:8080/"
        },
        "id": "gJboFgC3c7eC",
        "outputId": "298afd8e-8849-437c-c07d-f07a4bbe9082"
      },
      "execution_count": 11,
      "outputs": [
        {
          "output_type": "stream",
          "name": "stdout",
          "text": [
            "[[1 0 0]\n",
            " [0 1 0]\n",
            " [0 0 1]]\n",
            " \n",
            "[[1 0 0]\n",
            " [0 2 0]\n",
            " [0 0 3]]\n"
          ]
        }
      ]
    },
    {
      "cell_type": "markdown",
      "source": [
        "### 2. Indexing and Slicing\n",
        "\n",
        "TensorFlow provides flexible methods for indexing and slicing tensors, similar to NumPy. This includes support for default parameters and ellipsis.\n",
        "\n",
        "- **Indexing and Slicing**: Tensors can be indexed and sliced in a way that is consistent with NumPy conventions. This allows for easy access and modification of tensor elements.\n",
        "\n",
        "- **tf.Variable Support**: The `tf.Variable` data type supports indexing and slicing, enabling direct modification of specific tensor elements.\n",
        "\n",
        "- **Continuous Slicing**: To reference a continuous portion of a tensor, use `tf.slice`. This is the recommended method for standard, contiguous slicing operations.\n",
        "\n",
        "- **Irregular Slicing**: For non-contiguous or irregular slicing shapes, the following methods are recommended:\n",
        "  - `tf.gather`\n",
        "  - `tf.gather_nd`\n",
        "  - `tf.boolean_mask`\n",
        "\n",
        "- **tf.boolean_mask**: This method is particularly powerful as it combines the functionalities of both `tf.gather` and `tf.gather_nd`, and also supports boolean indexing.\n",
        "\n",
        "- **Creating New Tensors**: To create a new tensor by modifying elements of an existing tensor, use the following methods:\n",
        "  - `tf.where`\n",
        "  - `tf.scatter_nd`\n",
        "\n",
        "These methods provide robust tools for both regular and irregular tensor slicing, as well as for creating modified tensors based on specific criteria."
      ],
      "metadata": {
        "id": "tUin6BN6dKB9"
      }
    },
    {
      "cell_type": "code",
      "source": [
        "tf.random.set_seed(3)\n",
        "t = tf.random.uniform([5,5],minval=0,maxval=10,dtype=tf.int32)\n",
        "tf.print(t)"
      ],
      "metadata": {
        "colab": {
          "base_uri": "https://localhost:8080/"
        },
        "id": "Ec2fXw0Kc8Zr",
        "outputId": "131e8f37-45f0-4b48-d96d-92b132e91e3a"
      },
      "execution_count": 12,
      "outputs": [
        {
          "output_type": "stream",
          "name": "stdout",
          "text": [
            "[[4 7 4 2 9]\n",
            " [9 1 2 4 7]\n",
            " [7 2 7 4 0]\n",
            " [9 6 9 7 2]\n",
            " [3 7 0 0 3]]\n"
          ]
        }
      ]
    },
    {
      "cell_type": "code",
      "source": [
        "# Row 0\n",
        "tf.print(t[0])"
      ],
      "metadata": {
        "colab": {
          "base_uri": "https://localhost:8080/"
        },
        "id": "dnpjHceRdYBQ",
        "outputId": "ab35d05d-0d11-422e-bf59-52086bea257d"
      },
      "execution_count": 13,
      "outputs": [
        {
          "output_type": "stream",
          "name": "stdout",
          "text": [
            "[4 7 4 2 9]\n"
          ]
        }
      ]
    },
    {
      "cell_type": "code",
      "source": [
        "# Last row\n",
        "tf.print(t[-1])"
      ],
      "metadata": {
        "colab": {
          "base_uri": "https://localhost:8080/"
        },
        "id": "fswE1PLHdY0r",
        "outputId": "b74bec8b-02b0-4719-d62a-c89c7e12a22a"
      },
      "execution_count": 14,
      "outputs": [
        {
          "output_type": "stream",
          "name": "stdout",
          "text": [
            "[3 7 0 0 3]\n"
          ]
        }
      ]
    },
    {
      "cell_type": "code",
      "source": [
        "# Row 1 Column 3\n",
        "tf.print(t[1,3])\n",
        "tf.print(t[1][3])"
      ],
      "metadata": {
        "colab": {
          "base_uri": "https://localhost:8080/"
        },
        "id": "oMWPMx5JdZpR",
        "outputId": "9415d67a-6276-4e80-bf86-73be54387b93"
      },
      "execution_count": 15,
      "outputs": [
        {
          "output_type": "stream",
          "name": "stdout",
          "text": [
            "4\n",
            "4\n"
          ]
        }
      ]
    },
    {
      "cell_type": "code",
      "source": [
        "# From row 1 to row 3\n",
        "tf.print(t[1:4,:])\n",
        "tf.print(tf.slice(t,[1,0],[3,5])) #tf.slice(input,begin_vector,size_vector)"
      ],
      "metadata": {
        "colab": {
          "base_uri": "https://localhost:8080/"
        },
        "id": "vKLhWrD-daay",
        "outputId": "db5ff2cf-4d40-4731-c5d9-2a3dace24ecf"
      },
      "execution_count": 16,
      "outputs": [
        {
          "output_type": "stream",
          "name": "stdout",
          "text": [
            "[[9 1 2 4 7]\n",
            " [7 2 7 4 0]\n",
            " [9 6 9 7 2]]\n",
            "[[9 1 2 4 7]\n",
            " [7 2 7 4 0]\n",
            " [9 6 9 7 2]]\n"
          ]
        }
      ]
    },
    {
      "cell_type": "code",
      "source": [
        "# From row 1 to the last row, and from column 0 to the last but one with an increment of 2\n",
        "tf.print(t[1:4,:4:2])"
      ],
      "metadata": {
        "colab": {
          "base_uri": "https://localhost:8080/"
        },
        "id": "skvieQj_dbMa",
        "outputId": "1bc9cfd6-73a5-4bbe-e626-2ef42bd08aa1"
      },
      "execution_count": 17,
      "outputs": [
        {
          "output_type": "stream",
          "name": "stdout",
          "text": [
            "[[9 2]\n",
            " [7 7]\n",
            " [9 9]]\n"
          ]
        }
      ]
    },
    {
      "cell_type": "code",
      "source": [
        "# Variable supports modifying elements through indexing and slicing\n",
        "x = tf.Variable([[1,2],[3,4]],dtype = tf.float32)\n",
        "x[1,:].assign(tf.constant([0.0,0.0]))\n",
        "tf.print(x)"
      ],
      "metadata": {
        "colab": {
          "base_uri": "https://localhost:8080/"
        },
        "id": "1ELdbEo3db7A",
        "outputId": "6901f44a-a4d4-4034-ebfd-b9900c062379"
      },
      "execution_count": 18,
      "outputs": [
        {
          "output_type": "stream",
          "name": "stdout",
          "text": [
            "[[1 2]\n",
            " [0 0]]\n"
          ]
        }
      ]
    },
    {
      "cell_type": "code",
      "source": [
        "a = tf.random.uniform([3,3,3],minval=0,maxval=10,dtype=tf.int32)\n",
        "tf.print(a)"
      ],
      "metadata": {
        "colab": {
          "base_uri": "https://localhost:8080/"
        },
        "id": "ehGcRIwGdcvR",
        "outputId": "2ee13035-0d1b-495a-85c0-64423df5031b"
      },
      "execution_count": 19,
      "outputs": [
        {
          "output_type": "stream",
          "name": "stdout",
          "text": [
            "[[[7 3 9]\n",
            "  [9 0 7]\n",
            "  [9 6 7]]\n",
            "\n",
            " [[1 3 3]\n",
            "  [0 8 1]\n",
            "  [3 1 0]]\n",
            "\n",
            " [[4 0 6]\n",
            "  [6 2 2]\n",
            "  [7 9 5]]]\n"
          ]
        }
      ]
    },
    {
      "cell_type": "code",
      "source": [
        "# Ellipsis represents multiple colons\n",
        "tf.print(a[...,1])\n",
        "# This is equal to\n",
        "tf.print(a[:,:,1])"
      ],
      "metadata": {
        "colab": {
          "base_uri": "https://localhost:8080/"
        },
        "id": "Um2lGrbJddhr",
        "outputId": "ea18a64b-8826-4377-ec70-b73d8b2913c2"
      },
      "execution_count": 20,
      "outputs": [
        {
          "output_type": "stream",
          "name": "stdout",
          "text": [
            "[[3 0 6]\n",
            " [3 8 1]\n",
            " [0 2 9]]\n",
            "[[3 0 6]\n",
            " [3 8 1]\n",
            " [0 2 9]]\n"
          ]
        }
      ]
    },
    {
      "cell_type": "markdown",
      "source": [
        " The examples above are regular slicing; for irregular slicing, `tf.gather`, `tf.gather_nd`, `tf.boolean_mask` can be used.\n",
        "\n",
        "Here is an example of student's grade records. There are 4 classes, 10 students in each class, and 7 courses for each student, which could be represented as a tensor with a dimension of 4×10×7.\n",
        "\n",
        "---\n",
        "\n"
      ],
      "metadata": {
        "id": "cw3zwP3XdhTE"
      }
    },
    {
      "cell_type": "code",
      "source": [
        "scores = tf.random.uniform((4,10,7),minval=0,maxval=100,dtype=tf.int32)\n",
        "tf.print(scores)"
      ],
      "metadata": {
        "colab": {
          "base_uri": "https://localhost:8080/"
        },
        "id": "EYAN69mTdeRb",
        "outputId": "38680ae3-ac70-4316-b6ff-43b860362b5e"
      },
      "execution_count": 21,
      "outputs": [
        {
          "output_type": "stream",
          "name": "stdout",
          "text": [
            "[[[52 82 66 ... 17 86 14]\n",
            "  [8 36 94 ... 13 78 41]\n",
            "  [77 53 51 ... 22 91 56]\n",
            "  ...\n",
            "  [11 19 26 ... 89 86 68]\n",
            "  [60 72 0 ... 11 26 15]\n",
            "  [24 99 38 ... 97 44 74]]\n",
            "\n",
            " [[79 73 73 ... 35 3 81]\n",
            "  [83 36 31 ... 75 38 85]\n",
            "  [54 26 67 ... 60 68 98]\n",
            "  ...\n",
            "  [20 5 18 ... 32 45 3]\n",
            "  [72 52 81 ... 88 41 20]\n",
            "  [0 21 89 ... 53 10 90]]\n",
            "\n",
            " [[52 80 22 ... 29 25 60]\n",
            "  [78 71 54 ... 43 98 81]\n",
            "  [21 66 53 ... 97 75 77]\n",
            "  ...\n",
            "  [6 74 3 ... 53 65 43]\n",
            "  [98 36 72 ... 33 36 81]\n",
            "  [61 78 70 ... 7 59 21]]\n",
            "\n",
            " [[56 57 45 ... 23 15 3]\n",
            "  [35 8 82 ... 11 59 97]\n",
            "  [44 6 99 ... 81 60 27]\n",
            "  ...\n",
            "  [76 26 35 ... 51 8 17]\n",
            "  [33 52 53 ... 78 37 31]\n",
            "  [71 27 44 ... 0 52 16]]]\n"
          ]
        }
      ]
    },
    {
      "cell_type": "code",
      "source": [
        "# Extract all the grades of the 0th, 5th and 9th students in each class.\n",
        "p = tf.gather(scores,[0,5,9],axis=1)\n",
        "tf.print(p)"
      ],
      "metadata": {
        "colab": {
          "base_uri": "https://localhost:8080/"
        },
        "id": "eQN9EvYsdf4v",
        "outputId": "26edf719-7540-4387-d36b-4c8864eb54a3"
      },
      "execution_count": 22,
      "outputs": [
        {
          "output_type": "stream",
          "name": "stdout",
          "text": [
            "[[[52 82 66 ... 17 86 14]\n",
            "  [24 80 70 ... 72 63 96]\n",
            "  [24 99 38 ... 97 44 74]]\n",
            "\n",
            " [[79 73 73 ... 35 3 81]\n",
            "  [46 10 94 ... 23 18 92]\n",
            "  [0 21 89 ... 53 10 90]]\n",
            "\n",
            " [[52 80 22 ... 29 25 60]\n",
            "  [19 12 23 ... 87 86 25]\n",
            "  [61 78 70 ... 7 59 21]]\n",
            "\n",
            " [[56 57 45 ... 23 15 3]\n",
            "  [6 41 79 ... 97 43 13]\n",
            "  [71 27 44 ... 0 52 16]]]\n"
          ]
        }
      ]
    },
    {
      "cell_type": "code",
      "source": [
        "# Extract the grades of the 1st, 3rd and 6th courses of the 0th, 5th and 9th students in each class.\n",
        "q = tf.gather(tf.gather(scores,[0,5,9],axis=1),[1,3,6],axis=2)\n",
        "tf.print(q)"
      ],
      "metadata": {
        "colab": {
          "base_uri": "https://localhost:8080/"
        },
        "id": "0gCqRAJtdlGu",
        "outputId": "394b38a6-407a-4db2-a595-504212044322"
      },
      "execution_count": 23,
      "outputs": [
        {
          "output_type": "stream",
          "name": "stdout",
          "text": [
            "[[[82 55 14]\n",
            "  [80 46 96]\n",
            "  [99 58 74]]\n",
            "\n",
            " [[73 48 81]\n",
            "  [10 38 92]\n",
            "  [21 86 90]]\n",
            "\n",
            " [[80 57 60]\n",
            "  [12 34 25]\n",
            "  [78 71 21]]\n",
            "\n",
            " [[57 75 3]\n",
            "  [41 47 13]\n",
            "  [27 96 16]]]\n"
          ]
        }
      ]
    },
    {
      "cell_type": "code",
      "source": [
        "# Extract all the grades of the 0th student in the 0th class, the 4th student in the 2nd class, and the 6th student in the 3rd class.\n",
        "# Then length of the parameter indices equals to the number of samples, and the each element of indices is the coordinate of each sample.\n",
        "s = tf.gather_nd(scores,indices = [(0,0),(2,4),(3,6)])\n",
        "s"
      ],
      "metadata": {
        "colab": {
          "base_uri": "https://localhost:8080/"
        },
        "id": "3CvLaXCQdmDl",
        "outputId": "d5f13f5b-aed2-4bd1-d3d6-a9121fc1c90f"
      },
      "execution_count": 24,
      "outputs": [
        {
          "output_type": "execute_result",
          "data": {
            "text/plain": [
              "<tf.Tensor: shape=(3, 7), dtype=int32, numpy=\n",
              "array([[52, 82, 66, 55, 17, 86, 14],\n",
              "       [99, 94, 46, 70,  1, 63, 41],\n",
              "       [46, 83, 70, 80, 90, 85, 17]], dtype=int32)>"
            ]
          },
          "metadata": {},
          "execution_count": 24
        }
      ]
    },
    {
      "cell_type": "markdown",
      "source": [
        "The function of tf.gather and tf.gather_nd as shown above could be achieved through tf.boolean_mask.\n",
        "\n"
      ],
      "metadata": {
        "id": "Y1v9LLtXdoaa"
      }
    },
    {
      "cell_type": "code",
      "source": [
        "# Extract all the grades of the 0th, 5th and 9th students in each class.\n",
        "p = tf.boolean_mask(scores,[True,False,False,False,False,\n",
        "                            True,False,False,False,True],axis=1)\n",
        "tf.print(p)"
      ],
      "metadata": {
        "colab": {
          "base_uri": "https://localhost:8080/"
        },
        "id": "SW9Tv_bldm-H",
        "outputId": "97cb26c0-d159-4a30-dbdd-2e2948bf4879"
      },
      "execution_count": 25,
      "outputs": [
        {
          "output_type": "stream",
          "name": "stdout",
          "text": [
            "[[[52 82 66 ... 17 86 14]\n",
            "  [24 80 70 ... 72 63 96]\n",
            "  [24 99 38 ... 97 44 74]]\n",
            "\n",
            " [[79 73 73 ... 35 3 81]\n",
            "  [46 10 94 ... 23 18 92]\n",
            "  [0 21 89 ... 53 10 90]]\n",
            "\n",
            " [[52 80 22 ... 29 25 60]\n",
            "  [19 12 23 ... 87 86 25]\n",
            "  [61 78 70 ... 7 59 21]]\n",
            "\n",
            " [[56 57 45 ... 23 15 3]\n",
            "  [6 41 79 ... 97 43 13]\n",
            "  [71 27 44 ... 0 52 16]]]\n"
          ]
        }
      ]
    },
    {
      "cell_type": "code",
      "source": [
        "# Extract all the grades of the 0th student in the 0th class, the 4th student in the 2nd class, and the 6th student in the 3rd class.\n",
        "s = tf.boolean_mask(scores,\n",
        "    [[True,False,False,False,False,False,False,False,False,False],\n",
        "     [False,False,False,False,False,False,False,False,False,False],\n",
        "     [False,False,False,False,True,False,False,False,False,False],\n",
        "     [False,False,False,False,False,False,True,False,False,False]])\n",
        "tf.print(s)"
      ],
      "metadata": {
        "colab": {
          "base_uri": "https://localhost:8080/"
        },
        "id": "zV4vb8yLdqAM",
        "outputId": "fcc55356-1b4c-4ae0-defc-b32b61b999b9"
      },
      "execution_count": 26,
      "outputs": [
        {
          "output_type": "stream",
          "name": "stdout",
          "text": [
            "[[52 82 66 ... 17 86 14]\n",
            " [99 94 46 ... 1 63 41]\n",
            " [46 83 70 ... 90 85 17]]\n"
          ]
        }
      ]
    },
    {
      "cell_type": "code",
      "source": [
        "# Boolean indexing using tf.boolean_mask\n",
        "\n",
        "# Find all elements that are less than 0 in the matrix\n",
        "c = tf.constant([[-1,1,-1],[2,2,-2],[3,-3,3]],dtype=tf.float32)\n",
        "tf.print(c,\"\\n\")\n",
        "\n",
        "tf.print(tf.boolean_mask(c,c<0),\"\\n\")\n",
        "tf.print(c[c<0]) # This is the syntactic sugar of boolean_mask for boolean indexing."
      ],
      "metadata": {
        "colab": {
          "base_uri": "https://localhost:8080/"
        },
        "id": "tQ3LjEPpdq6Y",
        "outputId": "94657423-6b6a-458d-b15b-2edd21b33076"
      },
      "execution_count": 27,
      "outputs": [
        {
          "output_type": "stream",
          "name": "stdout",
          "text": [
            "[[-1 1 -1]\n",
            " [2 2 -2]\n",
            " [3 -3 3]] \n",
            "\n",
            "[-1 -1 -2 -3] \n",
            "\n",
            "[-1 -1 -2 -3]\n"
          ]
        }
      ]
    },
    {
      "cell_type": "markdown",
      "source": [
        "The methods shown above are able to extract part of the elements in the tensor, but are not able to create new tensors through modification of these elements.\n",
        "\n",
        "The method tf.where and tf.scatter_nd should be used for this purpose.\n",
        "\n",
        "tf.where is the tensor version of if; on the other hand, this method is able to find the coordinate of all the elements that statisfy certain conditions.\n",
        "\n",
        "tf.scatter_nd works in an opposite way to the method tf.gather_nd. The latter collects the elements according to the given coordinate, while the former inserts values on the given positions in an all-zero tensor with a known shape."
      ],
      "metadata": {
        "id": "wuAfVTgNdtms"
      }
    },
    {
      "cell_type": "code",
      "source": [
        "# Find elements that are less than 0, create a new tensor by replacing these elements with np.nan.\n",
        "# tf.where is similar to np.where, which is the \"if\" for the tensors\n",
        "\n",
        "c = tf.constant([[-1,1,-1],[2,2,-2],[3,-3,3]],dtype=tf.float32)\n",
        "d = tf.where(c<0,tf.fill(c.shape,np.nan),c)\n",
        "d"
      ],
      "metadata": {
        "colab": {
          "base_uri": "https://localhost:8080/"
        },
        "id": "wpplYdgadrtO",
        "outputId": "1549d81d-dace-4e30-99b2-cc6b810447bc"
      },
      "execution_count": 28,
      "outputs": [
        {
          "output_type": "execute_result",
          "data": {
            "text/plain": [
              "<tf.Tensor: shape=(3, 3), dtype=float32, numpy=\n",
              "array([[nan,  1., nan],\n",
              "       [ 2.,  2., nan],\n",
              "       [ 3., nan,  3.]], dtype=float32)>"
            ]
          },
          "metadata": {},
          "execution_count": 28
        }
      ]
    },
    {
      "cell_type": "code",
      "source": [
        "# The method where returns all the coordinates that satisfy the condition if there is only one argument\n",
        "indices = tf.where(c<0)\n",
        "indices"
      ],
      "metadata": {
        "colab": {
          "base_uri": "https://localhost:8080/"
        },
        "id": "xGVYWil8dusi",
        "outputId": "6102b192-d06b-42b2-d4cd-656ac674ac81"
      },
      "execution_count": 29,
      "outputs": [
        {
          "output_type": "execute_result",
          "data": {
            "text/plain": [
              "<tf.Tensor: shape=(4, 2), dtype=int64, numpy=\n",
              "array([[0, 0],\n",
              "       [0, 2],\n",
              "       [1, 2],\n",
              "       [2, 1]])>"
            ]
          },
          "metadata": {},
          "execution_count": 29
        }
      ]
    },
    {
      "cell_type": "code",
      "source": [
        "# Create a new tensor by replacing the value of two tensor elements located at [0,0] [2,1] as 0.\n",
        "d = c - tf.scatter_nd([[0,0],[2,1]],[c[0,0],c[2,1]],c.shape)\n",
        "d"
      ],
      "metadata": {
        "colab": {
          "base_uri": "https://localhost:8080/"
        },
        "id": "C_nwvOV0dvjX",
        "outputId": "82e19cc2-afe6-4ad1-be72-971c2e92e914"
      },
      "execution_count": 30,
      "outputs": [
        {
          "output_type": "execute_result",
          "data": {
            "text/plain": [
              "<tf.Tensor: shape=(3, 3), dtype=float32, numpy=\n",
              "array([[ 0.,  1., -1.],\n",
              "       [ 2.,  2., -2.],\n",
              "       [ 3.,  0.,  3.]], dtype=float32)>"
            ]
          },
          "metadata": {},
          "execution_count": 30
        }
      ]
    },
    {
      "cell_type": "code",
      "source": [
        "# The method scatter_nd functions inversly to gather_nd\n",
        "# This method can be used to insert values on the given positions in an all-zero tensor with a known shape.\n",
        "indices = tf.where(c<0)\n",
        "tf.scatter_nd(indices,tf.gather_nd(c,indices),c.shape)"
      ],
      "metadata": {
        "colab": {
          "base_uri": "https://localhost:8080/"
        },
        "id": "XPGTJBg3dwnY",
        "outputId": "8ac497d9-42ef-4046-a00b-e26ed4ed5abc"
      },
      "execution_count": 31,
      "outputs": [
        {
          "output_type": "execute_result",
          "data": {
            "text/plain": [
              "<tf.Tensor: shape=(3, 3), dtype=float32, numpy=\n",
              "array([[-1.,  0., -1.],\n",
              "       [ 0.,  0., -2.],\n",
              "       [ 0., -3.,  0.]], dtype=float32)>"
            ]
          },
          "metadata": {},
          "execution_count": 31
        }
      ]
    },
    {
      "cell_type": "markdown",
      "source": [
        "### 3. Dimension Transform\n",
        "\n",
        "Dimension transformation operations in TensorFlow include a variety of functions designed to reshape and manipulate the dimensions of tensors. Key functions include `tf.reshape`, `tf.squeeze`, `tf.expand_dims`, and `tf.transpose`.\n",
        "\n",
        "- **`tf.reshape`**: Alters the shape of a tensor without changing the order of elements in memory. This operation is fast and reversible.\n",
        "- **`tf.squeeze`**: Reduces the number of dimensions by removing dimensions of size 1.\n",
        "- **`tf.expand_dims`**: Increases the number of dimensions by adding a new dimension of size 1 at a specified position.\n",
        "- **`tf.transpose`**: Exchanges the order of the dimensions of a tensor, effectively rotating its axes.\n",
        "\n",
        "These functions allow for flexible manipulation of tensor shapes, facilitating operations that require specific dimensional configurations."
      ],
      "metadata": {
        "id": "aSMNOQRielGy"
      }
    },
    {
      "cell_type": "code",
      "source": [
        "a = tf.random.uniform(shape=[1,3,3,2],\n",
        "                      minval=0,maxval=255,dtype=tf.int32)\n",
        "tf.print(a.shape)\n",
        "tf.print(a)"
      ],
      "metadata": {
        "colab": {
          "base_uri": "https://localhost:8080/"
        },
        "id": "egcUVfLFdxZS",
        "outputId": "442a14bb-0784-4fd9-cdc9-8fa45ee8a0d5"
      },
      "execution_count": 32,
      "outputs": [
        {
          "output_type": "stream",
          "name": "stdout",
          "text": [
            "TensorShape([1, 3, 3, 2])\n",
            "[[[[100 44]\n",
            "   [181 14]\n",
            "   [90 53]]\n",
            "\n",
            "  [[205 141]\n",
            "   [14 24]\n",
            "   [239 46]]\n",
            "\n",
            "  [[225 174]\n",
            "   [212 78]\n",
            "   [14 144]]]]\n"
          ]
        }
      ]
    },
    {
      "cell_type": "code",
      "source": [
        "# Reshape into (3,6)\n",
        "b = tf.reshape(a,[3,6])\n",
        "tf.print(b.shape)\n",
        "tf.print(b)"
      ],
      "metadata": {
        "colab": {
          "base_uri": "https://localhost:8080/"
        },
        "id": "ECb6OsLwepuo",
        "outputId": "e4735666-1d89-43d3-bb08-99346ff33445"
      },
      "execution_count": 33,
      "outputs": [
        {
          "output_type": "stream",
          "name": "stdout",
          "text": [
            "TensorShape([3, 6])\n",
            "[[100 44 181 14 90 53]\n",
            " [205 141 14 24 239 46]\n",
            " [225 174 212 78 14 144]]\n"
          ]
        }
      ]
    },
    {
      "cell_type": "code",
      "source": [
        "# Reshape back to (1,3,3,2)\n",
        "c = tf.reshape(b,[1,3,3,2])\n",
        "tf.print(c)"
      ],
      "metadata": {
        "colab": {
          "base_uri": "https://localhost:8080/"
        },
        "id": "rObGuQe-erDX",
        "outputId": "a2dba54c-c424-495b-9342-9dacd450ef85"
      },
      "execution_count": 34,
      "outputs": [
        {
          "output_type": "stream",
          "name": "stdout",
          "text": [
            "[[[[100 44]\n",
            "   [181 14]\n",
            "   [90 53]]\n",
            "\n",
            "  [[205 141]\n",
            "   [14 24]\n",
            "   [239 46]]\n",
            "\n",
            "  [[225 174]\n",
            "   [212 78]\n",
            "   [14 144]]]]\n"
          ]
        }
      ]
    },
    {
      "cell_type": "markdown",
      "source": [
        "When there is only one element on a certain dimension, `tf.squeeze` eliminates this dimension.\n",
        "\n",
        "It won't change the order of the stored elements in the memory, which is similar to `tf.reshape`.\n",
        "\n",
        "The elements in a tensor is stored linearly, usually the adjacent elements in the same dimension use adjacent physical addresses."
      ],
      "metadata": {
        "id": "YENju4soevYt"
      }
    },
    {
      "cell_type": "code",
      "source": [
        "s = tf.squeeze(a)\n",
        "tf.print(s.shape)\n",
        "tf.print(s)"
      ],
      "metadata": {
        "colab": {
          "base_uri": "https://localhost:8080/"
        },
        "id": "eoLx4aEVerzS",
        "outputId": "4a5f4fd1-e98c-45ef-c43d-8a71dbc74f61"
      },
      "execution_count": 35,
      "outputs": [
        {
          "output_type": "stream",
          "name": "stdout",
          "text": [
            "TensorShape([3, 3, 2])\n",
            "[[[100 44]\n",
            "  [181 14]\n",
            "  [90 53]]\n",
            "\n",
            " [[205 141]\n",
            "  [14 24]\n",
            "  [239 46]]\n",
            "\n",
            " [[225 174]\n",
            "  [212 78]\n",
            "  [14 144]]]\n"
          ]
        }
      ]
    },
    {
      "cell_type": "code",
      "source": [
        "d = tf.expand_dims(s,axis=0) # Insert an extra dimension to the 0th dim with length = 1\n",
        "d"
      ],
      "metadata": {
        "colab": {
          "base_uri": "https://localhost:8080/"
        },
        "id": "EZ8u_5Agewbo",
        "outputId": "00acde74-ea12-41d5-fe23-4e09fcd52502"
      },
      "execution_count": 36,
      "outputs": [
        {
          "output_type": "execute_result",
          "data": {
            "text/plain": [
              "<tf.Tensor: shape=(1, 3, 3, 2), dtype=int32, numpy=\n",
              "array([[[[100,  44],\n",
              "         [181,  14],\n",
              "         [ 90,  53]],\n",
              "\n",
              "        [[205, 141],\n",
              "         [ 14,  24],\n",
              "         [239,  46]],\n",
              "\n",
              "        [[225, 174],\n",
              "         [212,  78],\n",
              "         [ 14, 144]]]], dtype=int32)>"
            ]
          },
          "metadata": {},
          "execution_count": 36
        }
      ]
    },
    {
      "cell_type": "markdown",
      "source": [
        "`tf.transpose` swaps the dimensions in the tensor; unlike `tf.shape`, it will change the order of the elements in the memory.\n",
        "\n",
        "`tf.transpose` is usually used for converting image format of storage."
      ],
      "metadata": {
        "id": "15ZDtn7Seywm"
      }
    },
    {
      "cell_type": "code",
      "source": [
        "# Batch,Height,Width,Channel\n",
        "a = tf.random.uniform(shape=[100,600,600,4],minval=0,maxval=255,dtype=tf.int32)\n",
        "tf.print(a.shape)\n",
        "\n",
        "# Transform to the order as Channel,Height,Width,Batch\n",
        "s= tf.transpose(a,perm=[3,1,2,0])\n",
        "tf.print(s.shape)"
      ],
      "metadata": {
        "colab": {
          "base_uri": "https://localhost:8080/"
        },
        "id": "_Dz59ydVexMQ",
        "outputId": "cdafb420-11fc-4592-f5a1-7c0738b0847f"
      },
      "execution_count": 37,
      "outputs": [
        {
          "output_type": "stream",
          "name": "stdout",
          "text": [
            "TensorShape([100, 600, 600, 4])\n",
            "TensorShape([4, 600, 600, 100])\n"
          ]
        }
      ]
    },
    {
      "cell_type": "markdown",
      "source": [
        "### 4. Combining and Splitting\n",
        "\n",
        "TensorFlow provides methods to combine and split tensors, similar to NumPy. The key methods for these operations are `tf.concat`, `tf.stack`, and `tf.split`.\n",
        "\n",
        "- **Combining Tensors**:\n",
        "  - **`tf.concat`**: Concatenates multiple tensors along a specified axis without increasing the number of dimensions.\n",
        "  - **`tf.stack`**: Stacks multiple tensors along a new axis, increasing the number of dimensions.\n",
        "\n",
        "- **Splitting Tensors**:\n",
        "  - **`tf.split`**: Splits a tensor into multiple sub-tensors along a specified axis.\n",
        "\n",
        "These functions enable efficient manipulation and reorganization of tensor data, making it easier to manage complex tensor operations."
      ],
      "metadata": {
        "id": "vCz2EPcde_17"
      }
    },
    {
      "cell_type": "code",
      "source": [
        "a = tf.constant([[1.0,2.0],[3.0,4.0]])\n",
        "b = tf.constant([[5.0,6.0],[7.0,8.0]])\n",
        "c = tf.constant([[9.0,10.0],[11.0,12.0]])\n",
        "\n",
        "tf.concat([a,b,c],axis = 0)"
      ],
      "metadata": {
        "colab": {
          "base_uri": "https://localhost:8080/"
        },
        "id": "MWV8ftEqe2Kh",
        "outputId": "1f2fa641-d7a4-4a42-dfe7-61e247894ade"
      },
      "execution_count": 39,
      "outputs": [
        {
          "output_type": "execute_result",
          "data": {
            "text/plain": [
              "<tf.Tensor: shape=(6, 2), dtype=float32, numpy=\n",
              "array([[ 1.,  2.],\n",
              "       [ 3.,  4.],\n",
              "       [ 5.,  6.],\n",
              "       [ 7.,  8.],\n",
              "       [ 9., 10.],\n",
              "       [11., 12.]], dtype=float32)>"
            ]
          },
          "metadata": {},
          "execution_count": 39
        }
      ]
    },
    {
      "cell_type": "code",
      "source": [
        "tf.concat([a,b,c],axis = 1)"
      ],
      "metadata": {
        "colab": {
          "base_uri": "https://localhost:8080/"
        },
        "id": "ZXbJ09LrfBuP",
        "outputId": "f2b9c9f0-cd6f-4412-d50d-a61023683d40"
      },
      "execution_count": 40,
      "outputs": [
        {
          "output_type": "execute_result",
          "data": {
            "text/plain": [
              "<tf.Tensor: shape=(2, 6), dtype=float32, numpy=\n",
              "array([[ 1.,  2.,  5.,  6.,  9., 10.],\n",
              "       [ 3.,  4.,  7.,  8., 11., 12.]], dtype=float32)>"
            ]
          },
          "metadata": {},
          "execution_count": 40
        }
      ]
    },
    {
      "cell_type": "code",
      "source": [
        "tf.stack([a,b,c])"
      ],
      "metadata": {
        "colab": {
          "base_uri": "https://localhost:8080/"
        },
        "id": "K1_zU7fVfCj4",
        "outputId": "73778716-b181-4461-c5f4-5c5b90fe0d08"
      },
      "execution_count": 41,
      "outputs": [
        {
          "output_type": "execute_result",
          "data": {
            "text/plain": [
              "<tf.Tensor: shape=(3, 2, 2), dtype=float32, numpy=\n",
              "array([[[ 1.,  2.],\n",
              "        [ 3.,  4.]],\n",
              "\n",
              "       [[ 5.,  6.],\n",
              "        [ 7.,  8.]],\n",
              "\n",
              "       [[ 9., 10.],\n",
              "        [11., 12.]]], dtype=float32)>"
            ]
          },
          "metadata": {},
          "execution_count": 41
        }
      ]
    },
    {
      "cell_type": "code",
      "source": [
        "tf.stack([a,b,c],axis=1)"
      ],
      "metadata": {
        "colab": {
          "base_uri": "https://localhost:8080/"
        },
        "id": "-JI0gFxWfDlJ",
        "outputId": "f45fce7f-73d7-424c-9437-d24ac31e6ebd"
      },
      "execution_count": 42,
      "outputs": [
        {
          "output_type": "execute_result",
          "data": {
            "text/plain": [
              "<tf.Tensor: shape=(2, 3, 2), dtype=float32, numpy=\n",
              "array([[[ 1.,  2.],\n",
              "        [ 5.,  6.],\n",
              "        [ 9., 10.]],\n",
              "\n",
              "       [[ 3.,  4.],\n",
              "        [ 7.,  8.],\n",
              "        [11., 12.]]], dtype=float32)>"
            ]
          },
          "metadata": {},
          "execution_count": 42
        }
      ]
    },
    {
      "cell_type": "code",
      "source": [
        "a = tf.constant([[1.0,2.0],[3.0,4.0]])\n",
        "b = tf.constant([[5.0,6.0],[7.0,8.0]])\n",
        "c = tf.constant([[9.0,10.0],[11.0,12.0]])\n",
        "\n",
        "c = tf.concat([a,b,c],axis = 0)"
      ],
      "metadata": {
        "id": "SGPCREdSfES3"
      },
      "execution_count": 43,
      "outputs": []
    },
    {
      "cell_type": "markdown",
      "source": [
        "`tf.split` is the inverse of `tf.concat`. It allows even splitting with given number of portions, or uneven splitting with given size of each portion."
      ],
      "metadata": {
        "id": "ThvXcgfffRia"
      }
    },
    {
      "cell_type": "code",
      "source": [
        "#tf.split(value,num_or_size_splits,axis)\n",
        "tf.split(c,3,axis = 0)  # Even splitting with given number of portions"
      ],
      "metadata": {
        "colab": {
          "base_uri": "https://localhost:8080/"
        },
        "id": "PRKGTnl4fFKA",
        "outputId": "dd1ae082-ff5d-41be-aebf-2c3b62e0e140"
      },
      "execution_count": 44,
      "outputs": [
        {
          "output_type": "execute_result",
          "data": {
            "text/plain": [
              "[<tf.Tensor: shape=(2, 2), dtype=float32, numpy=\n",
              " array([[1., 2.],\n",
              "        [3., 4.]], dtype=float32)>,\n",
              " <tf.Tensor: shape=(2, 2), dtype=float32, numpy=\n",
              " array([[5., 6.],\n",
              "        [7., 8.]], dtype=float32)>,\n",
              " <tf.Tensor: shape=(2, 2), dtype=float32, numpy=\n",
              " array([[ 9., 10.],\n",
              "        [11., 12.]], dtype=float32)>]"
            ]
          },
          "metadata": {},
          "execution_count": 44
        }
      ]
    },
    {
      "cell_type": "code",
      "source": [
        "tf.split(c,[2,2,2],axis = 0) # Splitting with given size of each portion."
      ],
      "metadata": {
        "colab": {
          "base_uri": "https://localhost:8080/"
        },
        "id": "gBzs5-xQfYEw",
        "outputId": "cb211f8a-7244-4e25-bb03-2fad60a97208"
      },
      "execution_count": 45,
      "outputs": [
        {
          "output_type": "execute_result",
          "data": {
            "text/plain": [
              "[<tf.Tensor: shape=(2, 2), dtype=float32, numpy=\n",
              " array([[1., 2.],\n",
              "        [3., 4.]], dtype=float32)>,\n",
              " <tf.Tensor: shape=(2, 2), dtype=float32, numpy=\n",
              " array([[5., 6.],\n",
              "        [7., 8.]], dtype=float32)>,\n",
              " <tf.Tensor: shape=(2, 2), dtype=float32, numpy=\n",
              " array([[ 9., 10.],\n",
              "        [11., 12.]], dtype=float32)>]"
            ]
          },
          "metadata": {},
          "execution_count": 45
        }
      ]
    },
    {
      "cell_type": "code",
      "source": [],
      "metadata": {
        "id": "-BxUXZSIfZfv"
      },
      "execution_count": null,
      "outputs": []
    }
  ]
}