{
 "cells": [
  {
   "cell_type": "markdown",
   "metadata": {},
   "source": [
    "# 2-1 Data Structure\n",
    "\n",
    "Program = Data Structure + Algorithm\n",
    "\n",
    "TensorFlow Program = Data Structure in Tensor + Algorithm in Graph\n",
    "\n",
    "Tensor and graph are key concepts of TensorFlow.\n",
    "\n",
    "The fundamental data structure in TensorFlow is Tensor, which is multi-dimentional array. Tensor is similar with the `array` in numpy.\n",
    "\n",
    "There are two types of tensor accoring to the behavior: constant and variable.\n",
    "\n",
    "The value of constant cannot be re-assigned in the graph, while variable can be re-assigned through operators such as `assign`."
   ]
  },
  {
   "cell_type": "markdown",
   "metadata": {},
   "source": [
    "### 1. Constant Tensor\n",
    "\n",
    "\n",
    "The data type of tensor is basically corresponding to `numpy.array`."
   ]
  },
  {
   "cell_type": "code",
   "execution_count": 1,
   "metadata": {},
   "outputs": [
    {
     "name": "stdout",
     "output_type": "stream",
     "text": [
      "True\n",
      "True\n",
      "True\n",
      "False\n"
     ]
    }
   ],
   "source": [
    "import numpy as np\n",
    "import tensorflow as tf\n",
    "\n",
    "i = tf.constant(1) # tf.int32 type constant\n",
    "l = tf.constant(1,dtype = tf.int64) # tf.int64 type constant\n",
    "f = tf.constant(1.23) #tf.float32 type constant\n",
    "d = tf.constant(3.14,dtype = tf.double) # tf.double type constant\n",
    "s = tf.constant(\"hello world\") # tf.string type constant\n",
    "b = tf.constant(True) #tf.bool type constant\n",
    "\n",
    "\n",
    "print(tf.int64 == np.int64) \n",
    "print(tf.bool == np.bool)\n",
    "print(tf.double == np.float64)\n",
    "print(tf.string == np.unicode) # tf.string type is not equal to np.unicode type"
   ]
  },
  {
   "cell_type": "markdown",
   "metadata": {},
   "source": [
    "Each data type can be represented by tensor in different rank.\n",
    "\n",
    "Scalars are tensors with rank = 0, arrays are with rank = 1, matrix are with rank = 2\n",
    "\n",
    "Colorful image has three channels (RGB), which can be represented as a tensor with rank = 3.\n",
    "\n",
    "There is temporal dimension for video so it could be represented as a rank 4 tensor.\n",
    "\n",
    "An intuitive way to understand: the number of the layers of square brackets equals to the rank of the tensor."
   ]
  },
  {
   "cell_type": "code",
   "execution_count": 2,
   "metadata": {},
   "outputs": [
    {
     "name": "stdout",
     "output_type": "stream",
     "text": [
      "tf.Tensor(0, shape=(), dtype=int32)\n",
      "0\n"
     ]
    }
   ],
   "source": [
    "scalar = tf.constant(True)  #A scalar is a rank 0 tensor\n",
    "\n",
    "print(tf.rank(scalar))\n",
    "print(scalar.numpy().ndim)  # tf.rank equals to the ndim function in numpy"
   ]
  },
  {
   "cell_type": "code",
   "execution_count": 3,
   "metadata": {},
   "outputs": [
    {
     "name": "stdout",
     "output_type": "stream",
     "text": [
      "tf.Tensor(1, shape=(), dtype=int32)\n",
      "1\n"
     ]
    }
   ],
   "source": [
    "vector = tf.constant([1.0,2.0,3.0,4.0]) #A vector is a rank 1 tensor\n",
    "\n",
    "print(tf.rank(vector))\n",
    "print(np.ndim(vector.numpy()))"
   ]
  },
  {
   "cell_type": "code",
   "execution_count": 4,
   "metadata": {},
   "outputs": [
    {
     "name": "stdout",
     "output_type": "stream",
     "text": [
      "2\n",
      "2\n"
     ]
    }
   ],
   "source": [
    "matrix = tf.constant([[1.0,2.0],[3.0,4.0]]) #A matrix is a rank 2 tensor\n",
    "\n",
    "print(tf.rank(matrix).numpy())\n",
    "print(np.ndim(matrix))"
   ]
  },
  {
   "cell_type": "code",
   "execution_count": 5,
   "metadata": {},
   "outputs": [
    {
     "name": "stdout",
     "output_type": "stream",
     "text": [
      "tf.Tensor(\n",
      "[[[1. 2.]\n",
      "  [3. 4.]]\n",
      "\n",
      " [[5. 6.]\n",
      "  [7. 8.]]], shape=(2, 2, 2), dtype=float32)\n",
      "tf.Tensor(3, shape=(), dtype=int32)\n"
     ]
    }
   ],
   "source": [
    "tensor3 = tf.constant([[[1.0,2.0],[3.0,4.0]],[[5.0,6.0],[7.0,8.0]]])  # A rank 3 tensor\n",
    "print(tensor3)\n",
    "print(tf.rank(tensor3))"
   ]
  },
  {
   "cell_type": "code",
   "execution_count": 6,
   "metadata": {},
   "outputs": [
    {
     "name": "stdout",
     "output_type": "stream",
     "text": [
      "tf.Tensor(\n",
      "[[[[1. 1.]\n",
      "   [2. 2.]]\n",
      "\n",
      "  [[3. 3.]\n",
      "   [4. 4.]]]\n",
      "\n",
      "\n",
      " [[[5. 5.]\n",
      "   [6. 6.]]\n",
      "\n",
      "  [[7. 7.]\n",
      "   [8. 8.]]]], shape=(2, 2, 2, 2), dtype=float32)\n",
      "tf.Tensor(4, shape=(), dtype=int32)\n"
     ]
    }
   ],
   "source": [
    "tensor4 = tf.constant([[[[1.0,1.0],[2.0,2.0]],[[3.0,3.0],[4.0,4.0]]],\n",
    "                        [[[5.0,5.0],[6.0,6.0]],[[7.0,7.0],[8.0,8.0]]]])  # A rank 4 tensor\n",
    "print(tensor4)\n",
    "print(tf.rank(tensor4))"
   ]
  },
  {
   "cell_type": "markdown",
   "metadata": {},
   "source": [
    "We use tf.cast to change the data type of the tensors.\n",
    "\n",
    "The method `numpy()` is for converting the data type from tensor to numpy array.\n",
    "\n",
    "The method `shape` is for checking up the size of tensor."
   ]
  },
  {
   "cell_type": "code",
   "execution_count": 7,
   "metadata": {},
   "outputs": [
    {
     "name": "stdout",
     "output_type": "stream",
     "text": [
      "<dtype: 'int32'> <dtype: 'float32'>\n"
     ]
    }
   ],
   "source": [
    "h = tf.constant([123,456],dtype = tf.int32)\n",
    "f = tf.cast(h,tf.float32)\n",
    "print(h.dtype, f.dtype)"
   ]
  },
  {
   "cell_type": "code",
   "execution_count": 8,
   "metadata": {},
   "outputs": [
    {
     "name": "stdout",
     "output_type": "stream",
     "text": [
      "[[1. 2.]\n",
      " [3. 4.]]\n",
      "(2, 2)\n"
     ]
    }
   ],
   "source": [
    "y = tf.constant([[1.0,2.0],[3.0,4.0]])\n",
    "print(y.numpy()) #Convert to np.array\n",
    "print(y.shape)"
   ]
  },
  {
   "cell_type": "code",
   "execution_count": 9,
   "metadata": {},
   "outputs": [
    {
     "name": "stdout",
     "output_type": "stream",
     "text": [
      "b'Hello World'\n",
      "Hello World\n"
     ]
    }
   ],
   "source": [
    "u = tf.constant(u\"Hello World\")\n",
    "print(u.numpy())  \n",
    "print(u.numpy().decode(\"utf-8\"))"
   ]
  },
  {
   "cell_type": "markdown",
   "metadata": {},
   "source": [
    "### 2. Variable Tensor\n",
    "\n",
    "\n",
    "The trainable parameters in the models are usually defined as variables."
   ]
  },
  {
   "cell_type": "code",
   "execution_count": 10,
   "metadata": {},
   "outputs": [
    {
     "name": "stdout",
     "output_type": "stream",
     "text": [
      "tf.Tensor([1. 2.], shape=(2,), dtype=float32)\n",
      "5502810320\n",
      "tf.Tensor([2. 3.], shape=(2,), dtype=float32)\n",
      "5502810656\n"
     ]
    }
   ],
   "source": [
    "# The value of a constant is NOT changeable. Re-assignment creates a new space in the memory.\n",
    "c = tf.constant([1.0,2.0])\n",
    "print(c)\n",
    "print(id(c))\n",
    "c = c + tf.constant([1.0,1.0])\n",
    "print(c)\n",
    "print(id(c))"
   ]
  },
  {
   "cell_type": "code",
   "execution_count": 11,
   "metadata": {},
   "outputs": [
    {
     "name": "stdout",
     "output_type": "stream",
     "text": [
      "<tf.Variable 'v:0' shape=(2,) dtype=float32, numpy=array([1., 2.], dtype=float32)>\n",
      "5502865984\n",
      "<tf.Variable 'v:0' shape=(2,) dtype=float32, numpy=array([2., 3.], dtype=float32)>\n",
      "5502865984\n"
     ]
    }
   ],
   "source": [
    "# The value of a variable is changeable through re-assigning methods such as assign, assign_add, etc.\n",
    "v = tf.Variable([1.0,2.0],name = \"v\")\n",
    "print(v)\n",
    "print(id(v))\n",
    "v.assign_add([1.0,1.0])\n",
    "print(v)\n",
    "print(id(v))"
   ]
  }
 ],
 "metadata": {
  "kernelspec": {
   "display_name": "Python 3",
   "language": "python",
   "name": "python3"
  },
  "language_info": {
   "codemirror_mode": {
    "name": "ipython",
    "version": 3
   },
   "file_extension": ".py",
   "mimetype": "text/x-python",
   "name": "python",
   "nbconvert_exporter": "python",
   "pygments_lexer": "ipython3",
   "version": "3.7.2"
  }
 },
 "nbformat": 4,
 "nbformat_minor": 2
}
