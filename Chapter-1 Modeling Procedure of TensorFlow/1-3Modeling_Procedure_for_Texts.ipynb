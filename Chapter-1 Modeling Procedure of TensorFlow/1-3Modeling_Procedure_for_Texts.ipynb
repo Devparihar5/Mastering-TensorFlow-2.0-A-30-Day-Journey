{
 "cells": [
  {
   "cell_type": "markdown",
   "id": "cf6b8e41",
   "metadata": {
    "papermill": {
     "duration": 0.099385,
     "end_time": "2023-08-05T13:58:05.223646",
     "exception": false,
     "start_time": "2023-08-05T13:58:05.124261",
     "status": "completed"
    },
    "tags": []
   },
   "source": [
    "# 1-3 Example: Modeling Procedure for Texts (Day-3)\n",
    " \n",
    "\n",
    "### 1. Data Preparation\n",
    "\n",
    "\n",
    "The purpose of the imdb dataset is to predict the emotion label according to the movie reviews.\n",
    "\n",
    "There are 20000 text reviews in the training dataset and 5000 in the testing dataset, with half positive and half negative, respectively.\n",
    "\n",
    "The pre-processing of the text dataset is a little bit complex, which includes word division (for Chinese only, not relevant to this demonstration), dictionary construction, encoding, sequence filling, and data pipeline construction, etc.\n",
    "\n",
    "There are two popular mothods of text preparation in TensorFlow.\n",
    "\n",
    "The first one is constructing the text data generator using Tokenizer in `tf.keras.preprocessing`, together with `tf.keras.utils.Sequence`.\n",
    "\n",
    "The second one is using `tf.data.Dataset` to have it work with the pre-processing layer `tf.keras.layers.experimental.preprocessing.TextVectorization`.\n",
    "\n",
    "The former is more complex and is demonstrated [here](https://zhuanlan.zhihu.com/p/67697840).\n",
    "\n",
    "The latter is the original method of TensorFlow, which is simpler.\n",
    "\n",
    "Below is the introduction to the second method.\n"
   ]
  },
  {
   "cell_type": "code",
   "execution_count": 33,
   "id": "013f3aa0",
   "metadata": {
    "execution": {
     "iopub.execute_input": "2023-08-05T13:58:05.423175Z",
     "iopub.status.busy": "2023-08-05T13:58:05.422408Z",
     "iopub.status.idle": "2023-08-05T13:58:05.430037Z",
     "shell.execute_reply": "2023-08-05T13:58:05.429005Z"
    },
    "papermill": {
     "duration": 0.107812,
     "end_time": "2023-08-05T13:58:05.432273",
     "exception": false,
     "start_time": "2023-08-05T13:58:05.324461",
     "status": "completed"
    },
    "tags": []
   },
   "outputs": [],
   "source": [
    "import numpy as np \n",
    "import pandas as pd \n",
    "from matplotlib import pyplot as plt\n",
    "import tensorflow as tf\n",
    "from tensorflow.keras import models,layers,preprocessing,optimizers,losses,metrics\n",
    "from tensorflow.keras.layers.experimental.preprocessing import TextVectorization\n",
    "import re,string"
   ]
  },
  {
   "cell_type": "code",
   "execution_count": 34,
   "id": "69f05e80",
   "metadata": {
    "execution": {
     "iopub.execute_input": "2023-08-05T13:58:05.627539Z",
     "iopub.status.busy": "2023-08-05T13:58:05.627091Z",
     "iopub.status.idle": "2023-08-05T13:58:05.631840Z",
     "shell.execute_reply": "2023-08-05T13:58:05.630704Z"
    },
    "papermill": {
     "duration": 0.10429,
     "end_time": "2023-08-05T13:58:05.634000",
     "exception": false,
     "start_time": "2023-08-05T13:58:05.529710",
     "status": "completed"
    },
    "tags": []
   },
   "outputs": [],
   "source": [
    "train_data_path = \"data/imdb/train.csv\"\n",
    "test_data_path =  \"data/imdb/test.csv\""
   ]
  },
  {
   "cell_type": "code",
   "execution_count": 35,
   "id": "44ed10e2",
   "metadata": {
    "execution": {
     "iopub.execute_input": "2023-08-05T13:58:05.827110Z",
     "iopub.status.busy": "2023-08-05T13:58:05.826331Z",
     "iopub.status.idle": "2023-08-05T13:58:05.831061Z",
     "shell.execute_reply": "2023-08-05T13:58:05.830341Z"
    },
    "papermill": {
     "duration": 0.1037,
     "end_time": "2023-08-05T13:58:05.833033",
     "exception": false,
     "start_time": "2023-08-05T13:58:05.729333",
     "status": "completed"
    },
    "tags": []
   },
   "outputs": [],
   "source": [
    "MAX_WORDS = 10000  # Consider the 10000 words with the highest frequency of appearance\n",
    "MAX_LEN = 200  # For each sample, preserve the first 200 words\n",
    "BATCH_SIZE = 20 "
   ]
  },
  {
   "cell_type": "code",
   "execution_count": 36,
   "id": "a1748813",
   "metadata": {
    "execution": {
     "iopub.execute_input": "2023-08-05T13:58:06.089463Z",
     "iopub.status.busy": "2023-08-05T13:58:06.088705Z",
     "iopub.status.idle": "2023-08-05T13:58:06.094934Z",
     "shell.execute_reply": "2023-08-05T13:58:06.094004Z"
    },
    "papermill": {
     "duration": 0.168238,
     "end_time": "2023-08-05T13:58:06.097165",
     "exception": false,
     "start_time": "2023-08-05T13:58:05.928927",
     "status": "completed"
    },
    "tags": []
   },
   "outputs": [],
   "source": [
    "#Constructing data pipeline\n",
    "def split_line(line):\n",
    "    arr = tf.strings.split(line,\"\\t\")\n",
    "    label = tf.expand_dims(tf.cast(tf.strings.to_number(arr[0]),tf.int32),axis = 0)\n",
    "    text = tf.expand_dims(arr[1],axis = 0)\n",
    "    return (text,label)\n"
   ]
  },
  {
   "cell_type": "code",
   "execution_count": 37,
   "id": "5ea779f4",
   "metadata": {
    "execution": {
     "iopub.execute_input": "2023-08-05T13:58:06.292127Z",
     "iopub.status.busy": "2023-08-05T13:58:06.291752Z",
     "iopub.status.idle": "2023-08-05T13:58:06.505012Z",
     "shell.execute_reply": "2023-08-05T13:58:06.503702Z"
    },
    "papermill": {
     "duration": 0.314275,
     "end_time": "2023-08-05T13:58:06.507584",
     "exception": false,
     "start_time": "2023-08-05T13:58:06.193309",
     "status": "completed"
    },
    "tags": []
   },
   "outputs": [],
   "source": [
    "ds_train_raw =  tf.data.TextLineDataset(filenames = [train_data_path]) \\\n",
    "   .map(split_line,num_parallel_calls = tf.data.experimental.AUTOTUNE) \\\n",
    "   .shuffle(buffer_size = 1000).batch(BATCH_SIZE) \\\n",
    "   .prefetch(tf.data.experimental.AUTOTUNE)\n",
    "\n",
    "ds_test_raw = tf.data.TextLineDataset(filenames = [test_data_path]) \\\n",
    "   .map(split_line,num_parallel_calls = tf.data.experimental.AUTOTUNE) \\\n",
    "   .batch(BATCH_SIZE) \\\n",
    "   .prefetch(tf.data.experimental.AUTOTUNE)\n"
   ]
  },
  {
   "cell_type": "code",
   "execution_count": 38,
   "id": "6c9de782",
   "metadata": {
    "execution": {
     "iopub.execute_input": "2023-08-05T13:58:06.702727Z",
     "iopub.status.busy": "2023-08-05T13:58:06.702332Z",
     "iopub.status.idle": "2023-08-05T13:58:06.707924Z",
     "shell.execute_reply": "2023-08-05T13:58:06.706801Z"
    },
    "papermill": {
     "duration": 0.105472,
     "end_time": "2023-08-05T13:58:06.709862",
     "exception": false,
     "start_time": "2023-08-05T13:58:06.604390",
     "status": "completed"
    },
    "tags": []
   },
   "outputs": [],
   "source": [
    "#Constructing dictionary\n",
    "def clean_text(text):\n",
    "    lowercase = tf.strings.lower(text)\n",
    "    stripped_html = tf.strings.regex_replace(lowercase, '<br />', ' ')\n",
    "    cleaned_punctuation = tf.strings.regex_replace(stripped_html,\n",
    "         '[%s]' % re.escape(string.punctuation),'')\n",
    "    return cleaned_punctuation\n"
   ]
  },
  {
   "cell_type": "code",
   "execution_count": 39,
   "id": "dda65c17",
   "metadata": {
    "execution": {
     "iopub.execute_input": "2023-08-05T13:58:06.903023Z",
     "iopub.status.busy": "2023-08-05T13:58:06.902042Z",
     "iopub.status.idle": "2023-08-05T13:58:06.923520Z",
     "shell.execute_reply": "2023-08-05T13:58:06.922585Z"
    },
    "papermill": {
     "duration": 0.120594,
     "end_time": "2023-08-05T13:58:06.926020",
     "exception": false,
     "start_time": "2023-08-05T13:58:06.805426",
     "status": "completed"
    },
    "tags": []
   },
   "outputs": [],
   "source": [
    "vectorize_layer = TextVectorization(\n",
    "    standardize=clean_text,\n",
    "    split = 'whitespace',\n",
    "    max_tokens=MAX_WORDS-1, #Leave one item for the placeholder\n",
    "    output_mode='int',\n",
    "    output_sequence_length=MAX_LEN)\n"
   ]
  },
  {
   "cell_type": "code",
   "execution_count": 40,
   "id": "08df372c",
   "metadata": {
    "execution": {
     "iopub.execute_input": "2023-08-05T13:58:07.120604Z",
     "iopub.status.busy": "2023-08-05T13:58:07.120187Z",
     "iopub.status.idle": "2023-08-05T13:58:10.847130Z",
     "shell.execute_reply": "2023-08-05T13:58:10.845949Z"
    },
    "papermill": {
     "duration": 3.82693,
     "end_time": "2023-08-05T13:58:10.849758",
     "exception": false,
     "start_time": "2023-08-05T13:58:07.022828",
     "status": "completed"
    },
    "tags": []
   },
   "outputs": [
    {
     "name": "stdout",
     "output_type": "stream",
     "text": [
      "['', '[UNK]', 'the', 'and', 'a', 'of', 'to', 'is', 'in', 'it', 'i', 'this', 'that', 'was', 'as', 'for', 'with', 'movie', 'but', 'film', 'on', 'not', 'you', 'his', 'are', 'have', 'be', 'he', 'one', 'its', 'at', 'all', 'by', 'an', 'they', 'from', 'who', 'so', 'like', 'her', 'just', 'or', 'about', 'has', 'if', 'out', 'some', 'there', 'what', 'good', 'more', 'when', 'very', 'she', 'even', 'my', 'no', 'would', 'up', 'time', 'only', 'which', 'story', 'really', 'their', 'were', 'had', 'see', 'can', 'me', 'than', 'we', 'much', 'well', 'get', 'been', 'will', 'into', 'people', 'also', 'other', 'do', 'bad', 'because', 'great', 'first', 'how', 'him', 'most', 'dont', 'made', 'then', 'them', 'films', 'movies', 'way', 'make', 'could', 'too', 'any']\n"
     ]
    }
   ],
   "source": [
    "ds_text = ds_train_raw.map(lambda text,label: text)\n",
    "vectorize_layer.adapt(ds_text)\n",
    "print(vectorize_layer.get_vocabulary()[0:100])"
   ]
  },
  {
   "cell_type": "code",
   "execution_count": 41,
   "id": "13e48fb0",
   "metadata": {
    "execution": {
     "iopub.execute_input": "2023-08-05T13:58:11.045501Z",
     "iopub.status.busy": "2023-08-05T13:58:11.044388Z",
     "iopub.status.idle": "2023-08-05T13:58:11.176564Z",
     "shell.execute_reply": "2023-08-05T13:58:11.175496Z"
    },
    "papermill": {
     "duration": 0.232233,
     "end_time": "2023-08-05T13:58:11.179049",
     "exception": false,
     "start_time": "2023-08-05T13:58:10.946816",
     "status": "completed"
    },
    "tags": []
   },
   "outputs": [],
   "source": [
    "#Word encoding\n",
    "ds_train = ds_train_raw.map(lambda text,label:(vectorize_layer(text),label)) \\\n",
    "    .prefetch(tf.data.experimental.AUTOTUNE)\n",
    "ds_test = ds_test_raw.map(lambda text,label:(vectorize_layer(text),label)) \\\n",
    "    .prefetch(tf.data.experimental.AUTOTUNE)"
   ]
  },
  {
   "cell_type": "markdown",
   "id": "e690e2cf",
   "metadata": {
    "papermill": {
     "duration": 0.097294,
     "end_time": "2023-08-05T13:58:11.373122",
     "exception": false,
     "start_time": "2023-08-05T13:58:11.275828",
     "status": "completed"
    },
    "tags": []
   },
   "source": [
    "### 2. Model Definition\n",
    "\n",
    "\n",
    "Usually there are three ways of modeling using APIs of Keras: sequential modeling using Sequential() function, arbitrary modeling using API functions, and customized modeling by inheriting base class Model.\n",
    "\n",
    "In this example, we use customized modeling by inheriting base class Model."
   ]
  },
  {
   "cell_type": "code",
   "execution_count": 42,
   "id": "7f398326",
   "metadata": {
    "execution": {
     "iopub.execute_input": "2023-08-05T13:58:11.568913Z",
     "iopub.status.busy": "2023-08-05T13:58:11.568520Z",
     "iopub.status.idle": "2023-08-05T13:58:11.702103Z",
     "shell.execute_reply": "2023-08-05T13:58:11.700969Z"
    },
    "papermill": {
     "duration": 0.2346,
     "end_time": "2023-08-05T13:58:11.704981",
     "exception": false,
     "start_time": "2023-08-05T13:58:11.470381",
     "status": "completed"
    },
    "tags": []
   },
   "outputs": [
    {
     "name": "stdout",
     "output_type": "stream",
     "text": [
      "Model: \"cnn_model\"\n",
      "_________________________________________________________________\n",
      " Layer (type)                Output Shape              Param #   \n",
      "=================================================================\n",
      " embedding (Embedding)       multiple                  70000     \n",
      "                                                                 \n",
      " conv_1 (Conv1D)             multiple                  576       \n",
      "                                                                 \n",
      " max_pooling1d (MaxPooling1D  multiple                 0         \n",
      " )                                                               \n",
      "                                                                 \n",
      " conv_2 (Conv1D)             multiple                  4224      \n",
      "                                                                 \n",
      " flatten (Flatten)           multiple                  0         \n",
      "                                                                 \n",
      " dense (Dense)               multiple                  6145      \n",
      "                                                                 \n",
      "=================================================================\n",
      "Total params: 80,945\n",
      "Trainable params: 80,945\n",
      "Non-trainable params: 0\n",
      "_________________________________________________________________\n"
     ]
    }
   ],
   "source": [
    "# Actually, modeling with sequential() or API functions should be priorized.\n",
    "\n",
    "tf.keras.backend.clear_session()\n",
    "\n",
    "class CnnModel(models.Model):\n",
    "    def __init__(self):\n",
    "        super(CnnModel, self).__init__()\n",
    "        \n",
    "    def build(self,input_shape):\n",
    "        self.embedding = layers.Embedding(MAX_WORDS,7,input_length=MAX_LEN)\n",
    "        self.conv_1 = layers.Conv1D(16, kernel_size= 5,name = \"conv_1\",activation = \"relu\")\n",
    "        self.pool = layers.MaxPool1D()\n",
    "        self.conv_2 = layers.Conv1D(128, kernel_size=2,name = \"conv_2\",activation = \"relu\")\n",
    "        self.flatten = layers.Flatten()\n",
    "        self.dense = layers.Dense(1,activation = \"sigmoid\")\n",
    "        super(CnnModel,self).build(input_shape)\n",
    "    \n",
    "    def call(self, x):\n",
    "        x = self.embedding(x)\n",
    "        x = self.conv_1(x)\n",
    "        x = self.pool(x)\n",
    "        x = self.conv_2(x)\n",
    "        x = self.pool(x)\n",
    "        x = self.flatten(x)\n",
    "        x = self.dense(x)\n",
    "        return(x)\n",
    "    \n",
    "model = CnnModel()\n",
    "model.build(input_shape =(None,MAX_LEN))\n",
    "model.summary()"
   ]
  },
  {
   "cell_type": "markdown",
   "id": "cceedecc",
   "metadata": {
    "papermill": {
     "duration": 0.09933,
     "end_time": "2023-08-05T13:58:11.902615",
     "exception": false,
     "start_time": "2023-08-05T13:58:11.803285",
     "status": "completed"
    },
    "tags": []
   },
   "source": [
    "### 3. Model Training\n",
    "\n",
    "There are three usual ways for model training: use internal function fit, use internal function train_on_batch, and customized training loop. Here we use the customized training loop."
   ]
  },
  {
   "cell_type": "code",
   "execution_count": 43,
   "id": "2b73cc5d",
   "metadata": {
    "execution": {
     "iopub.execute_input": "2023-08-05T13:58:12.100241Z",
     "iopub.status.busy": "2023-08-05T13:58:12.099862Z",
     "iopub.status.idle": "2023-08-05T13:58:12.108308Z",
     "shell.execute_reply": "2023-08-05T13:58:12.107121Z"
    },
    "papermill": {
     "duration": 0.109785,
     "end_time": "2023-08-05T13:58:12.110361",
     "exception": false,
     "start_time": "2023-08-05T13:58:12.000576",
     "status": "completed"
    },
    "tags": []
   },
   "outputs": [],
   "source": [
    "#Temporal mark\n",
    "@tf.function\n",
    "def printbar():\n",
    "    ts = tf.timestamp()\n",
    "    today_ts = ts%(24*60*60)\n",
    "\n",
    "    hour = tf.cast(today_ts//3600+8,tf.int32)%tf.constant(24)\n",
    "    minite = tf.cast((today_ts%3600)//60,tf.int32)\n",
    "    second = tf.cast(tf.floor(today_ts%60),tf.int32)\n",
    "    \n",
    "    def timeformat(m):\n",
    "        if tf.strings.length(tf.strings.format(\"{}\",m))==1:\n",
    "            return(tf.strings.format(\"0{}\",m))\n",
    "        else:\n",
    "            return(tf.strings.format(\"{}\",m))\n",
    "    \n",
    "    timestring = tf.strings.join([timeformat(hour),timeformat(minite),\n",
    "                timeformat(second)],separator = \":\")\n",
    "    tf.print(\"==========\"*8,end = \"\")\n",
    "    tf.print(timestring)"
   ]
  },
  {
   "cell_type": "code",
   "execution_count": 44,
   "id": "8a06baa3",
   "metadata": {
    "execution": {
     "iopub.execute_input": "2023-08-05T13:58:12.309691Z",
     "iopub.status.busy": "2023-08-05T13:58:12.308470Z",
     "iopub.status.idle": "2023-08-05T13:58:12.331899Z",
     "shell.execute_reply": "2023-08-05T13:58:12.330835Z"
    },
    "papermill": {
     "duration": 0.125007,
     "end_time": "2023-08-05T13:58:12.334365",
     "exception": false,
     "start_time": "2023-08-05T13:58:12.209358",
     "status": "completed"
    },
    "tags": []
   },
   "outputs": [],
   "source": [
    "optimizer = optimizers.Nadam()\n",
    "loss_func = losses.BinaryCrossentropy()\n",
    "\n",
    "train_loss = metrics.Mean(name='train_loss')\n",
    "train_metric = metrics.BinaryAccuracy(name='train_accuracy')\n",
    "\n",
    "valid_loss = metrics.Mean(name='valid_loss')\n",
    "valid_metric = metrics.BinaryAccuracy(name='valid_accuracy')\n"
   ]
  },
  {
   "cell_type": "code",
   "execution_count": 45,
   "id": "55249094",
   "metadata": {
    "execution": {
     "iopub.execute_input": "2023-08-05T13:58:12.533098Z",
     "iopub.status.busy": "2023-08-05T13:58:12.532735Z",
     "iopub.status.idle": "2023-08-05T13:58:12.540464Z",
     "shell.execute_reply": "2023-08-05T13:58:12.539401Z"
    },
    "papermill": {
     "duration": 0.110089,
     "end_time": "2023-08-05T13:58:12.542523",
     "exception": false,
     "start_time": "2023-08-05T13:58:12.432434",
     "status": "completed"
    },
    "tags": []
   },
   "outputs": [],
   "source": [
    "@tf.function\n",
    "def train_step(model, features, labels):\n",
    "    with tf.GradientTape() as tape:\n",
    "        predictions = model(features,training = True)\n",
    "        loss = loss_func(labels, predictions)\n",
    "    gradients = tape.gradient(loss, model.trainable_variables)\n",
    "    optimizer.apply_gradients(zip(gradients, model.trainable_variables))\n",
    "\n",
    "    train_loss.update_state(loss)\n",
    "    train_metric.update_state(labels, predictions)\n",
    "    \n",
    "\n",
    "@tf.function\n",
    "def valid_step(model, features, labels):\n",
    "    predictions = model(features,training = False)\n",
    "    batch_loss = loss_func(labels, predictions)\n",
    "    valid_loss.update_state(batch_loss)\n",
    "    valid_metric.update_state(labels, predictions)"
   ]
  },
  {
   "cell_type": "code",
   "execution_count": 46,
   "id": "8b2c8340",
   "metadata": {
    "execution": {
     "iopub.execute_input": "2023-08-05T13:58:12.742409Z",
     "iopub.status.busy": "2023-08-05T13:58:12.741703Z",
     "iopub.status.idle": "2023-08-05T13:59:17.318230Z",
     "shell.execute_reply": "2023-08-05T13:59:17.317191Z"
    },
    "papermill": {
     "duration": 64.772902,
     "end_time": "2023-08-05T13:59:17.414981",
     "exception": false,
     "start_time": "2023-08-05T13:58:12.642079",
     "status": "completed"
    },
    "tags": []
   },
   "outputs": [
    {
     "name": "stdout",
     "output_type": "stream",
     "text": [
      "================================================================================21:58:24\n",
      "Epoch=1,Loss:0.444239706,Accuracy:0.76475,Valid Loss:0.326446593,Valid Accuracy:0.8632\n",
      "\n",
      "================================================================================21:58:34\n",
      "Epoch=2,Loss:0.233533725,Accuracy:0.9091,Valid Loss:0.335945338,Valid Accuracy:0.867\n",
      "\n",
      "================================================================================21:58:44\n",
      "Epoch=3,Loss:0.160108447,Accuracy:0.94125,Valid Loss:0.403626323,Valid Accuracy:0.8674\n",
      "\n",
      "================================================================================21:58:55\n",
      "Epoch=4,Loss:0.100402169,Accuracy:0.96445,Valid Loss:0.595598221,Valid Accuracy:0.85\n",
      "\n",
      "================================================================================21:59:06\n",
      "Epoch=5,Loss:0.054860808,Accuracy:0.98195,Valid Loss:0.809576392,Valid Accuracy:0.8486\n",
      "\n",
      "================================================================================21:59:17\n",
      "Epoch=6,Loss:0.0256057419,Accuracy:0.9912,Valid Loss:0.981867075,Valid Accuracy:0.8488\n",
      "\n"
     ]
    }
   ],
   "source": [
    "def train_model(model,ds_train,ds_valid,epochs):\n",
    "    for epoch in tf.range(1,epochs+1):\n",
    "        \n",
    "        for features, labels in ds_train:\n",
    "            train_step(model,features,labels)\n",
    "\n",
    "        for features, labels in ds_valid:\n",
    "            valid_step(model,features,labels)\n",
    "        \n",
    "        #The logs template should be modified according to metric\n",
    "        logs = 'Epoch={},Loss:{},Accuracy:{},Valid Loss:{},Valid Accuracy:{}' \n",
    "        \n",
    "        if epoch%1==0:\n",
    "            printbar()\n",
    "            tf.print(tf.strings.format(logs,\n",
    "            (epoch,train_loss.result(),train_metric.result(),valid_loss.result(),valid_metric.result())))\n",
    "            tf.print(\"\")\n",
    "        \n",
    "        train_loss.reset_states()\n",
    "        valid_loss.reset_states()\n",
    "        train_metric.reset_states()\n",
    "        valid_metric.reset_states()\n",
    "\n",
    "train_model(model,ds_train,ds_test,epochs = 6)"
   ]
  },
  {
   "cell_type": "markdown",
   "id": "5fc5f322",
   "metadata": {
    "papermill": {
     "duration": 0.098103,
     "end_time": "2023-08-05T13:59:17.612194",
     "exception": false,
     "start_time": "2023-08-05T13:59:17.514091",
     "status": "completed"
    },
    "tags": []
   },
   "source": [
    "### 4. Model Evaluation\n",
    "\n",
    "The model trained by the customized looping is not compiled, so the method `model.evaluate(ds_valid)` can not be applied directly."
   ]
  },
  {
   "cell_type": "code",
   "execution_count": 47,
   "id": "960fbd2a",
   "metadata": {
    "execution": {
     "iopub.execute_input": "2023-08-05T13:59:17.811159Z",
     "iopub.status.busy": "2023-08-05T13:59:17.810774Z",
     "iopub.status.idle": "2023-08-05T13:59:17.816529Z",
     "shell.execute_reply": "2023-08-05T13:59:17.815493Z"
    },
    "papermill": {
     "duration": 0.107781,
     "end_time": "2023-08-05T13:59:17.818590",
     "exception": false,
     "start_time": "2023-08-05T13:59:17.710809",
     "status": "completed"
    },
    "tags": []
   },
   "outputs": [],
   "source": [
    "def evaluate_model(model,ds_valid):\n",
    "    for features, labels in ds_valid:\n",
    "         valid_step(model,features,labels)\n",
    "    logs = 'Valid Loss:{},Valid Accuracy:{}' \n",
    "    tf.print(tf.strings.format(logs,(valid_loss.result(),valid_metric.result())))\n",
    "    \n",
    "    valid_loss.reset_states()\n",
    "    train_metric.reset_states()\n",
    "    valid_metric.reset_states()"
   ]
  },
  {
   "cell_type": "code",
   "execution_count": 48,
   "id": "3713aa83",
   "metadata": {
    "execution": {
     "iopub.execute_input": "2023-08-05T13:59:18.017632Z",
     "iopub.status.busy": "2023-08-05T13:59:18.017221Z",
     "iopub.status.idle": "2023-08-05T13:59:18.832904Z",
     "shell.execute_reply": "2023-08-05T13:59:18.831983Z"
    },
    "papermill": {
     "duration": 0.919023,
     "end_time": "2023-08-05T13:59:18.836128",
     "exception": false,
     "start_time": "2023-08-05T13:59:17.917105",
     "status": "completed"
    },
    "tags": []
   },
   "outputs": [
    {
     "name": "stdout",
     "output_type": "stream",
     "text": [
      "Valid Loss:0.981867075,Valid Accuracy:0.8488\n"
     ]
    }
   ],
   "source": [
    "evaluate_model(model,ds_test)"
   ]
  },
  {
   "cell_type": "markdown",
   "id": "e5134a2e",
   "metadata": {
    "papermill": {
     "duration": 0.100564,
     "end_time": "2023-08-05T13:59:19.037559",
     "exception": false,
     "start_time": "2023-08-05T13:59:18.936995",
     "status": "completed"
    },
    "tags": []
   },
   "source": [
    "### 5. Model Application\n",
    "\n",
    "\n",
    "Below are the available methods:\n",
    "\n",
    "* model.predict(ds_test)\n",
    "* model(x_test)\n",
    "* model.call(x_test)\n",
    "* model.predict_on_batch(x_test)\n",
    "\n",
    "We recommend the method `model.predict(ds_test)` since it can be applied to both Dataset and Tensor."
   ]
  },
  {
   "cell_type": "code",
   "execution_count": 49,
   "id": "e4c75578",
   "metadata": {
    "execution": {
     "iopub.execute_input": "2023-08-05T13:59:19.237604Z",
     "iopub.status.busy": "2023-08-05T13:59:19.237197Z",
     "iopub.status.idle": "2023-08-05T13:59:20.670569Z",
     "shell.execute_reply": "2023-08-05T13:59:20.669480Z"
    },
    "papermill": {
     "duration": 1.536609,
     "end_time": "2023-08-05T13:59:20.672651",
     "exception": false,
     "start_time": "2023-08-05T13:59:19.136042",
     "status": "completed"
    },
    "tags": []
   },
   "outputs": [
    {
     "name": "stdout",
     "output_type": "stream",
     "text": [
      "250/250 [==============================] - 1s 3ms/step\n"
     ]
    },
    {
     "data": {
      "text/plain": [
       "array([[0.0866098 ],\n",
       "       [0.9999677 ],\n",
       "       [0.98831785],\n",
       "       ...,\n",
       "       [0.84937006],\n",
       "       [0.9417803 ],\n",
       "       [1.        ]], dtype=float32)"
      ]
     },
     "execution_count": 49,
     "metadata": {},
     "output_type": "execute_result"
    }
   ],
   "source": [
    "model.predict(ds_test)"
   ]
  },
  {
   "cell_type": "code",
   "execution_count": 50,
   "id": "7e97607e",
   "metadata": {
    "execution": {
     "iopub.execute_input": "2023-08-05T13:59:20.874822Z",
     "iopub.status.busy": "2023-08-05T13:59:20.873800Z",
     "iopub.status.idle": "2023-08-05T13:59:20.987786Z",
     "shell.execute_reply": "2023-08-05T13:59:20.986473Z"
    },
    "papermill": {
     "duration": 0.217545,
     "end_time": "2023-08-05T13:59:20.990125",
     "exception": false,
     "start_time": "2023-08-05T13:59:20.772580",
     "status": "completed"
    },
    "tags": []
   },
   "outputs": [
    {
     "name": "stdout",
     "output_type": "stream",
     "text": [
      "tf.Tensor(\n",
      "[[8.66097286e-02]\n",
      " [9.99967694e-01]\n",
      " [9.88317847e-01]\n",
      " [1.12238695e-07]\n",
      " [7.29654968e-01]\n",
      " [9.86460762e-08]\n",
      " [5.01278521e-07]\n",
      " [1.17048656e-03]\n",
      " [9.99997675e-01]\n",
      " [9.79222119e-01]\n",
      " [9.99999940e-01]\n",
      " [9.99884605e-01]\n",
      " [2.76143535e-08]\n",
      " [9.99788523e-01]\n",
      " [2.94289021e-06]\n",
      " [8.09224784e-01]\n",
      " [1.11816735e-05]\n",
      " [4.24819365e-02]\n",
      " [8.95846370e-06]\n",
      " [9.96691763e-01]], shape=(20, 1), dtype=float32)\n"
     ]
    }
   ],
   "source": [
    "for x_test,_ in ds_test.take(1):\n",
    "    print(model(x_test))\n",
    "    #Indentical expressions:\n",
    "    #print(model.call(x_test))\n",
    "    #print(model.predict_on_batch(x_test))"
   ]
  },
  {
   "cell_type": "markdown",
   "id": "cc638bb8",
   "metadata": {
    "papermill": {
     "duration": 0.10022,
     "end_time": "2023-08-05T13:59:21.190342",
     "exception": false,
     "start_time": "2023-08-05T13:59:21.090122",
     "status": "completed"
    },
    "tags": []
   },
   "source": [
    "### 6. Model Saving\n",
    "\n",
    "Model saving with the original way of TensorFlow is recommended."
   ]
  },
  {
   "cell_type": "code",
   "execution_count": 51,
   "id": "339fa9eb",
   "metadata": {
    "execution": {
     "iopub.execute_input": "2023-08-05T13:59:21.394478Z",
     "iopub.status.busy": "2023-08-05T13:59:21.393975Z",
     "iopub.status.idle": "2023-08-05T13:59:23.274635Z",
     "shell.execute_reply": "2023-08-05T13:59:23.273509Z"
    },
    "papermill": {
     "duration": 1.985663,
     "end_time": "2023-08-05T13:59:23.276702",
     "exception": false,
     "start_time": "2023-08-05T13:59:21.291039",
     "status": "completed"
    },
    "tags": []
   },
   "outputs": [
    {
     "name": "stdout",
     "output_type": "stream",
     "text": [
      "export saved model.\n",
      "250/250 [==============================] - 1s 3ms/step\n"
     ]
    },
    {
     "data": {
      "text/plain": [
       "array([[0.0866098 ],\n",
       "       [0.9999677 ],\n",
       "       [0.98831785],\n",
       "       ...,\n",
       "       [0.84937006],\n",
       "       [0.9417803 ],\n",
       "       [1.        ]], dtype=float32)"
      ]
     },
     "execution_count": 51,
     "metadata": {},
     "output_type": "execute_result"
    }
   ],
   "source": [
    "model.save('./tf_model_savedmodel', save_format=\"tf\")\n",
    "print('export saved model.')\n",
    "\n",
    "model_loaded = tf.keras.models.load_model('./tf_model_savedmodel')\n",
    "model_loaded.predict(ds_test)"
   ]
  },
  {
   "cell_type": "markdown",
   "id": "90e52dd1",
   "metadata": {
    "papermill": {
     "duration": 0.103065,
     "end_time": "2023-08-05T13:59:23.481969",
     "exception": false,
     "start_time": "2023-08-05T13:59:23.378904",
     "status": "completed"
    },
    "tags": []
   },
   "source": [
    "# 1-4 Example: Modeling Procedure for Temporal Sequences (Day-4)\n",
    "\n",
    "> comming Soon"
   ]
  },
  {
   "cell_type": "markdown",
   "id": "bb712ca2",
   "metadata": {
    "papermill": {
     "duration": 0.103654,
     "end_time": "2023-08-05T13:59:23.687528",
     "exception": false,
     "start_time": "2023-08-05T13:59:23.583874",
     "status": "completed"
    },
    "tags": []
   },
   "source": [
    "Thank you for joining the \"Eat That TensorFlow2.0 in 30 Days\" series - happy learning and keep exploring the world of TensorFlow! 🙏🚀"
   ]
  }
 ],
 "metadata": {
  "kernelspec": {
   "display_name": "Python 3",
   "language": "python",
   "name": "python3"
  },
  "language_info": {
   "codemirror_mode": {
    "name": "ipython",
    "version": 3
   },
   "file_extension": ".py",
   "mimetype": "text/x-python",
   "name": "python",
   "nbconvert_exporter": "python",
   "pygments_lexer": "ipython3",
   "version": "3.10.12"
  },
  "papermill": {
   "default_parameters": {},
   "duration": 236.659306,
   "end_time": "2023-08-05T13:59:26.219768",
   "environment_variables": {},
   "exception": null,
   "input_path": "__notebook__.ipynb",
   "output_path": "__notebook__.ipynb",
   "parameters": {},
   "start_time": "2023-08-05T13:55:29.560462",
   "version": "2.4.0"
  }
 },
 "nbformat": 4,
 "nbformat_minor": 5
}
